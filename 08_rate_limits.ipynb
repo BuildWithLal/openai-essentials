{
 "cells": [
  {
   "cell_type": "code",
   "execution_count": 2,
   "id": "f64b38de-37d0-481d-96cd-b2704cbaaefd",
   "metadata": {},
   "outputs": [],
   "source": [
    "from dotenv import load_dotenv"
   ]
  },
  {
   "cell_type": "code",
   "execution_count": 3,
   "id": "78979619-f5f5-48a3-8c12-9cb33d9aaba4",
   "metadata": {},
   "outputs": [
    {
     "data": {
      "text/plain": [
       "True"
      ]
     },
     "execution_count": 3,
     "metadata": {},
     "output_type": "execute_result"
    }
   ],
   "source": [
    "load_dotenv()"
   ]
  },
  {
   "cell_type": "code",
   "execution_count": 34,
   "id": "11f3ef70-feb4-479f-96ec-0f7696d76273",
   "metadata": {},
   "outputs": [],
   "source": [
    "from openai import OpenAI"
   ]
  },
  {
   "cell_type": "code",
   "execution_count": 35,
   "id": "aaf0435a-7f43-4b3a-bcde-17ff12939907",
   "metadata": {},
   "outputs": [],
   "source": [
    "client = OpenAI()"
   ]
  },
  {
   "cell_type": "markdown",
   "id": "3de06104-dde6-4721-9a7e-bfd99168661c",
   "metadata": {},
   "source": [
    "#"
   ]
  },
  {
   "cell_type": "markdown",
   "id": "0212c21f-38f3-48ad-abce-366ce63c79d6",
   "metadata": {},
   "source": [
    "### Requests Per Minute Limit"
   ]
  },
  {
   "cell_type": "markdown",
   "id": "971fa82e-fac6-4092-accb-a127495e4d39",
   "metadata": {},
   "source": [
    "#### send 3-4 requests without original limits"
   ]
  },
  {
   "cell_type": "code",
   "execution_count": 15,
   "id": "e0b67b2d-9205-4201-8894-727d39a69dc8",
   "metadata": {},
   "outputs": [],
   "source": [
    "from multiprocessing import Process, Pool"
   ]
  },
  {
   "cell_type": "code",
   "execution_count": 33,
   "id": "6da8e57d-74a2-42fd-aa32-dde5bf007f8a",
   "metadata": {},
   "outputs": [
    {
     "name": "stdout",
     "output_type": "stream",
     "text": [
      "Iceland is called Iceland because it was named by\n",
      "Iceland is called so because of the country's\n",
      "Iceland got its name due to the icy conditions\n",
      "Iceland was named by its first settler,\n",
      "Iceland is called Iceland because when the first settlers\n"
     ]
    }
   ],
   "source": [
    "for i in range(5):\n",
    "    try:        \n",
    "        response = client.chat.completions.create(\n",
    "            model=\"gpt-3.5-turbo\",\n",
    "            messages=[\n",
    "                {\n",
    "                    \"role\": \"user\",\n",
    "                    \"content\": \"why it is called Iceland?\",\n",
    "                }\n",
    "            ],\n",
    "            max_tokens=10\n",
    "        )\n",
    "        print(response.choices[0].message.content)\n",
    "    except Exception as e:\n",
    "        print(e)"
   ]
  },
  {
   "cell_type": "markdown",
   "id": "4d28e39e-e9dd-4827-b586-7f3bcf52d3c8",
   "metadata": {},
   "source": [
    "#"
   ]
  },
  {
   "cell_type": "markdown",
   "id": "bc769094-91a2-4894-aa0d-d9ce0e8d5087",
   "metadata": {},
   "source": [
    "#### send request after setting limits to 20 tokens per req"
   ]
  },
  {
   "cell_type": "markdown",
   "id": "96c848e3-e59c-4165-ab26-828e4a0f5e98",
   "metadata": {},
   "source": [
    "#### Limit is imposed on input tokens only"
   ]
  },
  {
   "cell_type": "markdown",
   "id": "c0c95115-98d8-4fcb-a2fc-1800a538b70f",
   "metadata": {},
   "source": [
    "### Check Limits in response Headers"
   ]
  },
  {
   "cell_type": "code",
   "execution_count": 36,
   "id": "3e2947d4-95aa-4bc4-a9c8-2dba0a3254af",
   "metadata": {},
   "outputs": [],
   "source": [
    "response = client.chat.completions.with_raw_response.create(\n",
    "        model=\"gpt-3.5-turbo\",\n",
    "        messages=[\n",
    "            {\n",
    "                \"role\": \"user\",\n",
    "                \"content\": \"why it is called Iceland?\",\n",
    "            }\n",
    "        ]\n",
    "    )"
   ]
  },
  {
   "cell_type": "code",
   "execution_count": 32,
   "id": "a53e969c-bf76-4760-9714-d9493a3a94a0",
   "metadata": {},
   "outputs": [],
   "source": [
    "result = response.http_response.json()"
   ]
  },
  {
   "cell_type": "code",
   "execution_count": 33,
   "id": "24d8b596-f162-4bbc-92a9-c7a7687955f5",
   "metadata": {},
   "outputs": [
    {
     "name": "stdout",
     "output_type": "stream",
     "text": [
      "{'id': 'chatcmpl-9txGhmOyjIgWKSdf802GJB0kHcL9Z', 'object': 'chat.completion', 'created': 1723122895, 'model': 'gpt-3.5-turbo-0125', 'choices': [{'index': 0, 'message': {'role': 'assistant', 'content': 'Iceland is called Iceland because it was named by the first Viking settlers who arrived on the island. According to historical records, the first Viking to arrive was a Norse chieftain named Ingólfur Arnarson, who settled in Iceland with his family in the 9th century. When he arrived, he saw vast icy landscapes and decided to name the island \"Iceland\" to deter other settlers from coming and to keep the land for himself. However, despite the name, Iceland is not entirely covered in ice, and there are areas of greenery and vegetation scattered throughout the island.', 'refusal': None}, 'logprobs': None, 'finish_reason': 'stop'}], 'usage': {'prompt_tokens': 13, 'completion_tokens': 121, 'total_tokens': 134}, 'system_fingerprint': None}\n"
     ]
    }
   ],
   "source": [
    "print(result)"
   ]
  },
  {
   "cell_type": "code",
   "execution_count": 34,
   "id": "802771d9-410e-49a0-a67a-3e558ccc3b15",
   "metadata": {},
   "outputs": [
    {
     "name": "stdout",
     "output_type": "stream",
     "text": [
      "Iceland is called Iceland because it was named by the first Viking settlers who arrived on the island. According to historical records, the first Viking to arrive was a Norse chieftain named Ingólfur Arnarson, who settled in Iceland with his family in the 9th century. When he arrived, he saw vast icy landscapes and decided to name the island \"Iceland\" to deter other settlers from coming and to keep the land for himself. However, despite the name, Iceland is not entirely covered in ice, and there are areas of greenery and vegetation scattered throughout the island.\n"
     ]
    }
   ],
   "source": [
    "print(result['choices'][0]['message']['content'])"
   ]
  },
  {
   "cell_type": "code",
   "execution_count": 35,
   "id": "6f1fa1f8-fded-4dbc-881d-48b8896ab8e2",
   "metadata": {},
   "outputs": [
    {
     "name": "stdout",
     "output_type": "stream",
     "text": [
      "Headers({'date': 'Thu, 08 Aug 2024 13:14:57 GMT', 'content-type': 'application/json', 'transfer-encoding': 'chunked', 'connection': 'keep-alive', 'openai-organization': 'user-hbbg5fqpwt2vl3kll3x138n9', 'openai-processing-ms': '1926', 'openai-version': '2020-10-01', 'strict-transport-security': 'max-age=15552000; includeSubDomains; preload', 'x-ratelimit-limit-project-requests': '500', 'x-ratelimit-limit-project-tokens': '200000', 'x-ratelimit-limit-requests': '10000', 'x-ratelimit-limit-tokens': '200000', 'x-ratelimit-remaining-project-requests': '499', 'x-ratelimit-remaining-project-tokens': '199976', 'x-ratelimit-remaining-requests': '9999', 'x-ratelimit-remaining-tokens': '199976', 'x-ratelimit-reset-project-requests': '120ms', 'x-ratelimit-reset-project-tokens': '7ms', 'x-ratelimit-reset-requests': '8.64s', 'x-ratelimit-reset-tokens': '7ms', 'x-request-id': 'req_e2c3c73bbad41890ba97c42b3f0cd88a', 'cf-cache-status': 'DYNAMIC', 'x-content-type-options': 'nosniff', 'server': 'cloudflare', 'cf-ray': '8affc5b0a909909b-KHI', 'content-encoding': 'gzip', 'alt-svc': 'h3=\":443\"; ma=86400'})\n"
     ]
    }
   ],
   "source": [
    "print(response.headers)"
   ]
  },
  {
   "cell_type": "code",
   "execution_count": 26,
   "id": "0a988b86-f5eb-4671-bb3d-74acc8d26183",
   "metadata": {},
   "outputs": [
    {
     "name": "stdout",
     "output_type": "stream",
     "text": [
      "date Thu, 08 Aug 2024 13:12:22 GMT\n",
      "content-type application/json\n",
      "transfer-encoding chunked\n",
      "connection keep-alive\n",
      "openai-organization user-hbbg5fqpwt2vl3kll3x138n9\n",
      "openai-processing-ms 1513\n",
      "openai-version 2020-10-01\n",
      "strict-transport-security max-age=15552000; includeSubDomains; preload\n",
      "x-ratelimit-limit-project-requests 500\n",
      "x-ratelimit-limit-project-tokens 200000\n",
      "x-ratelimit-limit-requests 10000\n",
      "x-ratelimit-limit-tokens 200000\n",
      "x-ratelimit-remaining-project-requests 499\n",
      "x-ratelimit-remaining-project-tokens 199976\n",
      "x-ratelimit-remaining-requests 9999\n",
      "x-ratelimit-remaining-tokens 199976\n",
      "x-ratelimit-reset-project-requests 120ms\n",
      "x-ratelimit-reset-project-tokens 7ms\n",
      "x-ratelimit-reset-requests 8.64s\n",
      "x-ratelimit-reset-tokens 7ms\n",
      "x-request-id req_7fe337b302870d408119185376225e90\n",
      "cf-cache-status DYNAMIC\n",
      "x-content-type-options nosniff\n",
      "server cloudflare\n",
      "cf-ray 8affc1eaaf11d04d-KHI\n",
      "content-encoding gzip\n",
      "alt-svc h3=\":443\"; ma=86400\n"
     ]
    }
   ],
   "source": [
    "for key, value in dict(response.headers).items():\n",
    "    print(key, value)"
   ]
  },
  {
   "cell_type": "markdown",
   "id": "583cbbed-3c2e-42a0-8b7f-92122adb2bf2",
   "metadata": {},
   "source": [
    "#"
   ]
  },
  {
   "cell_type": "markdown",
   "id": "099a5a8b-19d4-4ef5-9a1a-7bd67f01ac17",
   "metadata": {},
   "source": [
    "#### send request by changing model to see each model its own limits"
   ]
  },
  {
   "cell_type": "code",
   "execution_count": null,
   "id": "d7575314-6ecb-4517-a394-26fadab9f4a3",
   "metadata": {},
   "outputs": [],
   "source": []
  },
  {
   "cell_type": "markdown",
   "id": "9ba7a342-0ef8-4b13-8604-4179fa28a2a5",
   "metadata": {},
   "source": [
    "#### change API-KEY to default project and see no effect on default limits to demo limits per project"
   ]
  },
  {
   "cell_type": "code",
   "execution_count": null,
   "id": "cf47aad3-970e-45a4-869d-a512849ab7e8",
   "metadata": {},
   "outputs": [],
   "source": []
  }
 ],
 "metadata": {
  "kernelspec": {
   "display_name": "Python 3 (ipykernel)",
   "language": "python",
   "name": "python3"
  },
  "language_info": {
   "codemirror_mode": {
    "name": "ipython",
    "version": 3
   },
   "file_extension": ".py",
   "mimetype": "text/x-python",
   "name": "python",
   "nbconvert_exporter": "python",
   "pygments_lexer": "ipython3",
   "version": "3.10.12"
  }
 },
 "nbformat": 4,
 "nbformat_minor": 5
}
