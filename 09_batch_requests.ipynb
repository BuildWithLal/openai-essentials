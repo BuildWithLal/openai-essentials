{
 "cells": [
  {
   "cell_type": "code",
   "execution_count": 1,
   "id": "5f56f16e-e56c-41c3-a6a2-8bc62a2b9082",
   "metadata": {},
   "outputs": [],
   "source": [
    "from dotenv import load_dotenv"
   ]
  },
  {
   "cell_type": "code",
   "execution_count": 2,
   "id": "d7e0fd37-f103-4954-9eaf-6ce43c9d6d3c",
   "metadata": {},
   "outputs": [
    {
     "data": {
      "text/plain": [
       "True"
      ]
     },
     "execution_count": 2,
     "metadata": {},
     "output_type": "execute_result"
    }
   ],
   "source": [
    "load_dotenv()"
   ]
  },
  {
   "cell_type": "code",
   "execution_count": 3,
   "id": "cfc5360a-3db8-4fdd-9984-090e41caca86",
   "metadata": {},
   "outputs": [],
   "source": [
    "import os\n",
    "import IPython\n",
    "from openai import OpenAI"
   ]
  },
  {
   "cell_type": "code",
   "execution_count": 4,
   "id": "7d9fb735-8c73-4b3f-9605-b2fa9a915146",
   "metadata": {},
   "outputs": [],
   "source": [
    "client = OpenAI()"
   ]
  },
  {
   "cell_type": "markdown",
   "id": "f1e057bc-a4ba-4284-bb96-909bdaa53e07",
   "metadata": {},
   "source": [
    "#"
   ]
  },
  {
   "cell_type": "markdown",
   "id": "909d84f8-cae1-4dc2-b4d6-583e19dcb8e2",
   "metadata": {},
   "source": [
    "### 1. Prepare Batch Requests File"
   ]
  },
  {
   "cell_type": "code",
   "execution_count": 5,
   "id": "9c21d01a-1333-4359-9146-4e4b6b3666e8",
   "metadata": {},
   "outputs": [
    {
     "name": "stdout",
     "output_type": "stream",
     "text": [
      "total 3488\n",
      "-rw-rw-r-- 1 lal lal     506 Aug 13 14:08 batch-requests.jsonl\n",
      "-rw-rw-r-- 1 lal lal 1368003 Jul 24 16:04 cat-mask.png\n",
      "-rw-rw-r-- 1 lal lal 1379936 Jul 24 16:04 cat.png\n",
      "-rw-rw-r-- 1 lal lal    7342 Jul 26 19:36 code-craft-marketplace.jsonl\n",
      "-rw-rw-r-- 1 lal lal   23747 Jul 29 14:18 different-format.aac\n",
      "-rw-rw-r-- 1 lal lal   58080 Aug  4 18:31 echo.mp3\n",
      "-rw-rw-r-- 1 lal lal   79680 Jul 31 23:27 german.mp3\n",
      "-rw-rw-r-- 1 lal lal  169265 Aug  4 18:17 image.jpg\n",
      "-rw-rw-r-- 1 lal lal   58560 Aug  4 18:31 nova.mp3\n",
      "-rw-rw-r-- 1 lal lal   56160 Jul 24 16:04 onyx.mp3\n",
      "-rw-rw-r-- 1 lal lal   20723 Aug  4 18:31 output.aac\n",
      "-rw-rw-r-- 1 lal lal   86880 Jul 20 18:03 real-time.mp3\n",
      "-rw-rw-r-- 1 lal lal   61440 Aug  4 18:31 spanish.mp3\n",
      "-rw-rw-r-- 1 lal lal   57120 Aug  4 18:31 speech.mp3\n",
      "-rw-rw-r-- 1 lal lal   78720 Jul 24 16:04 speech-with-speed.mp3\n",
      "-rw-rw-r-- 1 lal lal   28800 Aug  4 18:31 speed.mp3\n",
      "-rw-rw-r-- 1 lal lal    3640 Jul 26 16:40 training-data.jsonl\n"
     ]
    }
   ],
   "source": [
    "!ls -l static"
   ]
  },
  {
   "cell_type": "code",
   "execution_count": 8,
   "id": "86b97160-a465-40ca-aad5-aecb2922abd3",
   "metadata": {},
   "outputs": [
    {
     "name": "stdout",
     "output_type": "stream",
     "text": [
      "{\"custom_id\": \"request-1\", \"method\": \"POST\", \"url\": \"/v1/chat/completions\", \"body\": {\"model\": \"gpt-3.5-turbo\", \"messages\": [{\"role\": \"system\", \"content\": \"You are a helpful assistant.\"},{\"role\": \"user\", \"content\": \"Hello world!\"}],\"max_tokens\": 1000}}\n",
      "{\"custom_id\": \"request-2\", \"method\": \"POST\", \"url\": \"/v1/chat/completions\", \"body\": {\"model\": \"gpt-3.5-turbo\", \"messages\": [{\"role\": \"system\", \"content\": \"You are an unhelpful assistant.\"},{\"role\": \"user\", \"content\": \"Hello world!\"}],\"max_tokens\": 1000}}"
     ]
    }
   ],
   "source": [
    "!cat static/batch-requests.jsonl"
   ]
  },
  {
   "cell_type": "markdown",
   "id": "fdd7893f-1070-4281-a4a7-c3b4f1f7bbe3",
   "metadata": {},
   "source": [
    "#"
   ]
  },
  {
   "cell_type": "markdown",
   "id": "f2194d9f-da2b-4109-961e-c691906ffaa0",
   "metadata": {},
   "source": [
    "### 2. Upload Batch Requests File"
   ]
  },
  {
   "cell_type": "code",
   "execution_count": 10,
   "id": "8349ab4a-ca90-4886-8696-5db6c2585a76",
   "metadata": {},
   "outputs": [],
   "source": [
    "batch_file = client.files.create(\n",
    "  file=open(\"static/batch-requests.jsonl\", \"rb\"),\n",
    "  purpose=\"batch\"\n",
    ")"
   ]
  },
  {
   "cell_type": "code",
   "execution_count": 11,
   "id": "66b9b46e-f532-43e9-89f6-0686aeb17384",
   "metadata": {},
   "outputs": [
    {
     "data": {
      "text/plain": [
       "'file-kmp5MJotsczgCij48YKPd0kY'"
      ]
     },
     "execution_count": 11,
     "metadata": {},
     "output_type": "execute_result"
    }
   ],
   "source": [
    "batch_file_id = batch_file.id\n",
    "batch_file_id"
   ]
  },
  {
   "cell_type": "raw",
   "id": "bc5b7dd1-1d69-42f0-abed-5c135065e515",
   "metadata": {},
   "source": [
    "A single batch may include up to 50,000 requests"
   ]
  },
  {
   "cell_type": "raw",
   "id": "b79b920b-2e24-4f95-8f2d-fde7c645cff5",
   "metadata": {},
   "source": [
    "batch input file can be up to 100 MB in size"
   ]
  },
  {
   "cell_type": "markdown",
   "id": "092fc54d-7ed9-4627-9b4e-cc02c2325f55",
   "metadata": {},
   "source": [
    "#"
   ]
  },
  {
   "cell_type": "markdown",
   "id": "92f8de3f-e85d-4748-9bb2-f8b5175f0cb2",
   "metadata": {},
   "source": [
    "### 3. Creating the Batch Job"
   ]
  },
  {
   "cell_type": "code",
   "execution_count": 12,
   "id": "35937287-2957-478e-810c-44a1961d71c9",
   "metadata": {},
   "outputs": [],
   "source": [
    "batch_job = client.batches.create(\n",
    "    input_file_id=batch_file_id,\n",
    "    endpoint=\"/v1/chat/completions\",\n",
    "    completion_window=\"24h\", # For now, the completion window can only be set to 24h\n",
    ")"
   ]
  },
  {
   "cell_type": "code",
   "execution_count": 14,
   "id": "5dc6dfff-af86-40ee-9e90-edd617f8422c",
   "metadata": {},
   "outputs": [
    {
     "data": {
      "text/plain": [
       "'batch_hR8iQ3fmdaVnm2yl9Ue4hyyn'"
      ]
     },
     "execution_count": 14,
     "metadata": {},
     "output_type": "execute_result"
    }
   ],
   "source": [
    "batch_job_id = batch_job.id\n",
    "batch_job_id"
   ]
  },
  {
   "cell_type": "markdown",
   "id": "c7173ed2-3214-446b-aea5-cca1b55d84a5",
   "metadata": {},
   "source": [
    "#"
   ]
  },
  {
   "cell_type": "markdown",
   "id": "bd3e0b04-f5fc-44ca-ad66-2898f00c0464",
   "metadata": {},
   "source": [
    "### 4. Checking the Status of a Batch"
   ]
  },
  {
   "cell_type": "code",
   "execution_count": 19,
   "id": "365370c3-81ef-44b1-b525-1c56fcb41aab",
   "metadata": {},
   "outputs": [
    {
     "data": {
      "text/plain": [
       "Batch(id='batch_hR8iQ3fmdaVnm2yl9Ue4hyyn', completion_window='24h', created_at=1723540396, endpoint='/v1/chat/completions', input_file_id='file-kmp5MJotsczgCij48YKPd0kY', object='batch', status='completed', cancelled_at=None, cancelling_at=None, completed_at=1723540436, error_file_id=None, errors=None, expired_at=None, expires_at=1723626796, failed_at=None, finalizing_at=1723540435, in_progress_at=1723540397, metadata=None, output_file_id='file-d2B4WxkJFCIoaJ3FX4zBcqMP', request_counts=BatchRequestCounts(completed=2, failed=0, total=2))"
      ]
     },
     "execution_count": 19,
     "metadata": {},
     "output_type": "execute_result"
    }
   ],
   "source": [
    "batch_job = client.batches.retrieve(batch_job_id)\n",
    "batch_job"
   ]
  },
  {
   "cell_type": "code",
   "execution_count": 20,
   "id": "700f4b54-706d-4cb7-b736-4667735e418a",
   "metadata": {},
   "outputs": [
    {
     "data": {
      "text/plain": [
       "'file-d2B4WxkJFCIoaJ3FX4zBcqMP'"
      ]
     },
     "execution_count": 20,
     "metadata": {},
     "output_type": "execute_result"
    }
   ],
   "source": [
    "output_file_id = batch_job.output_file_id\n",
    "output_file_id"
   ]
  },
  {
   "cell_type": "raw",
   "id": "e01070eb-97af-4b86-ac6c-74951be8313e",
   "metadata": {},
   "source": [
    "batch status:\n",
    "validating\n",
    "failed\n",
    "in_progress\n",
    "finalizing\n",
    "completed\n",
    "expired\n",
    "cancelling\n",
    "cancelled"
   ]
  },
  {
   "cell_type": "markdown",
   "id": "e01e535d-ec5b-4aaf-b2d3-806ee531022d",
   "metadata": {},
   "source": [
    "#"
   ]
  },
  {
   "cell_type": "markdown",
   "id": "e81ce4b5-4e3b-4f68-9d27-69535a9d3846",
   "metadata": {},
   "source": [
    "### 5. Retrieving the Results"
   ]
  },
  {
   "cell_type": "code",
   "execution_count": 49,
   "id": "9c13bba8-a5ce-4726-878c-c8a474a27600",
   "metadata": {},
   "outputs": [
    {
     "name": "stdout",
     "output_type": "stream",
     "text": [
      "{\"id\": \"batch_req_peAo2LcKlQ1salX6MbVcQcxa\", \"custom_id\": \"request-1\", \"response\": {\"status_code\": 200, \"request_id\": \"3d2f011eba4c94aaca703a3ad0f39930\", \"body\": {\"id\": \"chatcmpl-9vht26GnvBgkXJqiCdq6LN0LF4Cgx\", \"object\": \"chat.completion\", \"created\": 1723540424, \"model\": \"gpt-3.5-turbo-0125\", \"choices\": [{\"index\": 0, \"message\": {\"role\": \"assistant\", \"content\": \"Hello! How can I assist you today?\", \"refusal\": null}, \"logprobs\": null, \"finish_reason\": \"stop\"}], \"usage\": {\"prompt_tokens\": 20, \"completion_tokens\": 9, \"total_tokens\": 29}, \"system_fingerprint\": null}}, \"error\": null}\n",
      "{\"id\": \"batch_req_sVDq0EQbpwWLubg3FlusqP3R\", \"custom_id\": \"request-2\", \"response\": {\"status_code\": 200, \"request_id\": \"5f9aa6a03f1f7bcc63cc0f4fbf823b2f\", \"body\": {\"id\": \"chatcmpl-9vht9rvY7Ep3apAhwkwidSgyXfT0h\", \"object\": \"chat.completion\", \"created\": 1723540431, \"model\": \"gpt-3.5-turbo-0125\", \"choices\": [{\"index\": 0, \"message\": {\"role\": \"assistant\", \"content\": \"Greetings. How may I not assist you today?\", \"refusal\": null}, \"logprobs\": null, \"finish_reason\": \"stop\"}], \"usage\": {\"prompt_tokens\": 22, \"completion_tokens\": 10, \"total_tokens\": 32}, \"system_fingerprint\": null}}, \"error\": null}\n",
      "\n"
     ]
    }
   ],
   "source": [
    "batch_response = client.files.content(output_file_id)\n",
    "print(batch_response.text)"
   ]
  },
  {
   "cell_type": "code",
   "execution_count": 51,
   "id": "30aead67-0cb0-4995-889f-63a0cabe96d1",
   "metadata": {},
   "outputs": [
    {
     "name": "stdout",
     "output_type": "stream",
     "text": [
      "Hello! How can I assist you today? \n",
      "\n",
      "\n",
      "Greetings. How may I not assist you today? \n",
      "\n",
      "\n"
     ]
    }
   ],
   "source": [
    "import json\n",
    "for request in batch_response.text.strip().split('\\n'):\n",
    "    request = json.loads(request)\n",
    "    print(request['response']['body']['choices'][0]['message']['content'], '\\n\\n')"
   ]
  },
  {
   "cell_type": "markdown",
   "id": "269ff9b6-c97e-4950-b5b1-6e659dfb8da6",
   "metadata": {},
   "source": [
    "The output .jsonl file will have one response line for every successful request line in the input file. Any failed requests in the batch will have their error information written to an error file that can be found via the batch's error_file_id"
   ]
  },
  {
   "cell_type": "raw",
   "id": "594e8b6c-9545-4db9-a555-2db586e6330b",
   "metadata": {},
   "source": []
  },
  {
   "cell_type": "markdown",
   "id": "4d3dcc82-eb40-4dea-8b71-b51d245f20d6",
   "metadata": {},
   "source": [
    "### Batch Expiration"
   ]
  },
  {
   "cell_type": "raw",
   "id": "19dafa2d-5f06-43ab-be4d-87f0be0a8ab0",
   "metadata": {},
   "source": [
    "Batches that do not complete in time eventually move to an expired state; unfinished requests within that batch are cancelled, and any responses to completed requests are made available via the batch's output file. You will be charged for tokens consumed from any completed requests."
   ]
  },
  {
   "cell_type": "code",
   "execution_count": null,
   "id": "cb73c815-6f06-457a-938b-8cf3fbcb5b4c",
   "metadata": {},
   "outputs": [],
   "source": []
  },
  {
   "cell_type": "code",
   "execution_count": null,
   "id": "61444557-3979-47d0-a3d2-28ef05a3e60e",
   "metadata": {},
   "outputs": [],
   "source": []
  }
 ],
 "metadata": {
  "kernelspec": {
   "display_name": "Python 3 (ipykernel)",
   "language": "python",
   "name": "python3"
  },
  "language_info": {
   "codemirror_mode": {
    "name": "ipython",
    "version": 3
   },
   "file_extension": ".py",
   "mimetype": "text/x-python",
   "name": "python",
   "nbconvert_exporter": "python",
   "pygments_lexer": "ipython3",
   "version": "3.10.12"
  }
 },
 "nbformat": 4,
 "nbformat_minor": 5
}
